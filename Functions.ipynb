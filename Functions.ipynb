{
  "nbformat": 4,
  "nbformat_minor": 0,
  "metadata": {
    "colab": {
      "provenance": []
    },
    "kernelspec": {
      "name": "python3",
      "display_name": "Python 3"
    },
    "language_info": {
      "name": "python"
    }
  },
  "cells": [
    {
      "cell_type": "markdown",
      "source": [
        "1. What is the difference between a function and a method in Python?\n",
        "   - a function is a reusable block of code that performs a specific task and can be called by its name, while a method is a function that is associated with an object or class and is called using dot notation\n",
        "\n",
        "2. Explain the concept of function arguments and parameters in Python.   \n",
        "   - Parameters are placeholders in a function definition and Arguments are the actual values you pass to the function when calling it.\n",
        "\n",
        "   def greet(name):  # 'name' is a parameter\n",
        "    print(f\"Hello, {name}!\")\n",
        "\n",
        "   greet(\"Alice\")     # \"Alice\" is an argument\n",
        "\n",
        "3. What are the different ways to define and call a function in Python?\n",
        "   - n Python, you define functions using the def keyword, followed by the function name, parentheses for potential arguments, and a colon, then indent the function body. To call a function, simply use its name followed by parentheses, optionally with arguments.\n",
        "\n",
        "4. What is the purpose of the `return` statement in a Python function?\n",
        "   - The return statement in a Python function is used to send a value (or multiple values) back to the caller. It ends the function execution and specifies what value should be returned.\n",
        "\n",
        "5. What are iterators in Python and how do they differ from iterables?\n",
        "   - An Iterable is basically an object that any user can iterate over. An Iterator is also an object that helps a user in iterating over another object (that is iterable). We can generate an iterator when we pass the object to the iter() method.\n",
        "\n",
        "6. Explain the concept of generators in Python and how they are defined.\n",
        "   - A generator is a type of iterator that allows you to iterate over a sequence of values one at a time, only as needed. Unlike regular functions, which return all the data at once, generators yield values one by one, which makes them memory efficient.\n",
        "\n",
        "   You define a generator using a function with the yield keyword.\n",
        "   def countdown(n):\n",
        "    while n > 0:\n",
        "        yield n\n",
        "        n -= 1\n",
        "    This function doesn’t run all at once. Instead, each time you call next(), it gives you the next value and remembers where it left off.\n",
        "\n",
        "7. What are the advantages of using generators over regular functions?\n",
        "   - Unlike a regular function, a generator does not return its results all at once. Instead, it yields its values one by one, each time it is called. This makes it possible to generate an infinite sequence of values, as long as there is sufficient memory to store them.\n",
        "\n",
        "8. What is a lambda function in Python and when is it typically used?\n",
        "   - A lambda function in Python is a small anonymous function defined with the lambda keyword. It’s mainly used for short, simple operations when defining a full function with def would be overkill.\n",
        "\n",
        "9.  Explain the purpose and usage of the `map()` function in Python.\n",
        "    -The map() function in Python is a super handy tool for applying a function to every item in an iterable (like a list or tuple), and it returns a map object (an iterator) with the results.\n",
        "\n",
        "10.  What is the difference between `map()`, `reduce()`, and `filter()` functions in Python?\n",
        "     - map(), reduce(), and filter() are all functional programming tools in Python that work on iterables (like lists, tuples, etc.). They each have a specific purpose:\n",
        "\n",
        "      map() – Transformation - Applies a function to every item in an iterable and returns a new iterator with the transformed values.\n",
        "      \n",
        "      filter() – Filtering\n",
        "Applies a function that returns True or False to each item and filters out the ones that return False.\n",
        "\n",
        "      reduce() – Aggregation\n",
        "Repeatedly applies a function to reduce the iterable to a single value.\n",
        "It's not built-in like the others—you need to import it: from functools import reduce\n",
        "\n",
        "11. . Using pen & Paper write the internal mechanism for sum operation using  reduce function on this given\n",
        "      \n",
        "      -Initial list: [47, 11, 42, 13]\n",
        "\n",
        "     47 + 11 = 58\n",
        "     58 + 42 = 100\n",
        "     100 + 13 = 113\n",
        "\n",
        "      Final result: 113\n",
        "\n",
        "      \n",
        "\n",
        "\n",
        "\n",
        "\n",
        "\n",
        "\n"
      ],
      "metadata": {
        "id": "rH1Oj7v4ONcj"
      }
    },
    {
      "cell_type": "code",
      "source": [],
      "metadata": {
        "id": "_-JBeEKxOVRJ"
      },
      "execution_count": null,
      "outputs": []
    },
    {
      "cell_type": "markdown",
      "source": [
        "1. Write a Python function that takes a list of numbers as input and returns the sum of all even numbers in\n",
        "the list."
      ],
      "metadata": {
        "id": "EDC511xKStJ4"
      }
    },
    {
      "cell_type": "code",
      "source": [
        "\n",
        "my_list = [1, 2, 3, 4, 5, 6]\n",
        "result = sum_of_evens(my_list)\n",
        "print(\"Sum of even numbers:\", result)"
      ],
      "metadata": {
        "colab": {
          "base_uri": "https://localhost:8080/"
        },
        "id": "rqdrLbshSuhP",
        "outputId": "d7e8637e-3a2c-4a02-f3f3-3dd97345c9cf"
      },
      "execution_count": 3,
      "outputs": [
        {
          "output_type": "stream",
          "name": "stdout",
          "text": [
            "Sum of even numbers: 12\n"
          ]
        }
      ]
    },
    {
      "cell_type": "markdown",
      "source": [
        "2. Create a Python function that accepts a string and returns the reverse of that string."
      ],
      "metadata": {
        "id": "dk6OzTvHTY6s"
      }
    },
    {
      "cell_type": "code",
      "source": [
        "text = \"hello\"\n",
        "result = reverse_string(text)\n",
        "print(\"Reversed string:\", result)"
      ],
      "metadata": {
        "colab": {
          "base_uri": "https://localhost:8080/"
        },
        "id": "iqm4r1jNULHW",
        "outputId": "c4a0a3ab-93ac-47d6-cec0-52c59d76af7f"
      },
      "execution_count": 6,
      "outputs": [
        {
          "output_type": "stream",
          "name": "stdout",
          "text": [
            "Reversed string: olleh\n"
          ]
        }
      ]
    },
    {
      "cell_type": "markdown",
      "source": [
        " 3. Implement a Python function that takes a list of integers and returns a new list containing the squares of\n",
        "each number."
      ],
      "metadata": {
        "id": "9GZPehdHUhRD"
      }
    },
    {
      "cell_type": "code",
      "source": [
        "nums = [1, 2, 3, 4, 5]\n",
        "result = square_numbers(nums)\n",
        "print(\"Squared numbers:\", result)"
      ],
      "metadata": {
        "colab": {
          "base_uri": "https://localhost:8080/"
        },
        "id": "S00oVSUfUwVx",
        "outputId": "e903058c-0f5a-4a81-ec8d-1f5d095943b9"
      },
      "execution_count": 9,
      "outputs": [
        {
          "output_type": "stream",
          "name": "stdout",
          "text": [
            "Squared numbers: [1, 4, 9, 16, 25]\n"
          ]
        }
      ]
    },
    {
      "cell_type": "markdown",
      "source": [
        "4. Write a Python function that checks if a given number is prime or not from 1 to 200"
      ],
      "metadata": {
        "id": "ztB2lfWOVMmw"
      }
    },
    {
      "cell_type": "code",
      "source": [
        "def is_prime(n):\n",
        "    if n < 2:\n",
        "        return False  # 0 and 1 are not prime\n",
        "    for i in range(2, int(n ** 0.5) + 1):  # Check divisibility up to sqrt(n)\n",
        "        if n % i == 0:\n",
        "            return False\n",
        "    return True\n",
        "\n",
        "# Checking prime numbers from 1 to 200\n",
        "prime_numbers = [num for num in range(1, 201) if is_prime(num)]\n",
        "print(\"Prime numbers from 1 to 200:\", prime_numbers)\n"
      ],
      "metadata": {
        "colab": {
          "base_uri": "https://localhost:8080/"
        },
        "id": "V7as1EW2VN53",
        "outputId": "c8bbc232-151a-4b81-d754-876944ea10db"
      },
      "execution_count": 10,
      "outputs": [
        {
          "output_type": "stream",
          "name": "stdout",
          "text": [
            "Prime numbers from 1 to 200: [2, 3, 5, 7, 11, 13, 17, 19, 23, 29, 31, 37, 41, 43, 47, 53, 59, 61, 67, 71, 73, 79, 83, 89, 97, 101, 103, 107, 109, 113, 127, 131, 137, 139, 149, 151, 157, 163, 167, 173, 179, 181, 191, 193, 197, 199]\n"
          ]
        }
      ]
    },
    {
      "cell_type": "markdown",
      "source": [
        "5. Create an iterator class in Python that generates the Fibonacci sequence up to a specified number of\n",
        "terms."
      ],
      "metadata": {
        "id": "CxzYb46oVZRy"
      }
    },
    {
      "cell_type": "code",
      "source": [
        "class FibonacciIterator:\n",
        "    def __init__(self, num_terms):\n",
        "        self.num_terms = num_terms  # Total terms to generate\n",
        "        self.a, self.b = 0, 1  # First two Fibonacci numbers\n",
        "        self.count = 0  # Track iterations\n",
        "\n",
        "    def __iter__(self):\n",
        "        return self  # Returns the iterator object itself\n",
        "\n",
        "    def __next__(self):\n",
        "        if self.count >= self.num_terms:  # Stop iteration when limit is reached\n",
        "            raise StopIteration\n",
        "\n",
        "        if self.count == 0:  # First Fibonacci number\n",
        "            self.count += 1\n",
        "            return 0\n",
        "        elif self.count == 1:  # Second Fibonacci number\n",
        "            self.count += 1\n",
        "            return 1\n",
        "        else:\n",
        "            fib = self.a + self.b  # Compute next Fibonacci number\n",
        "            self.a, self.b = self.b, fib  # Update previous numbers\n",
        "            self.count += 1\n",
        "            return fib\n",
        "\n",
        "# ✅ Example Usage:\n",
        "fib_iter = FibonacciIterator(10)  # Generate first 10 Fibonacci numbers\n",
        "for num in fib_iter:\n",
        "    print(num, end=\" \")  #\n"
      ],
      "metadata": {
        "colab": {
          "base_uri": "https://localhost:8080/"
        },
        "id": "2f0cI8njVawf",
        "outputId": "0ec330d0-dbec-43fe-bad6-e79d2069743b"
      },
      "execution_count": 11,
      "outputs": [
        {
          "output_type": "stream",
          "name": "stdout",
          "text": [
            "0 1 1 2 3 5 8 13 21 34 "
          ]
        }
      ]
    },
    {
      "cell_type": "markdown",
      "source": [
        "5. Write a generator function in Python that yields the powers of 2 up to a given exponent."
      ],
      "metadata": {
        "id": "BL3SMVLuVkHW"
      }
    },
    {
      "cell_type": "code",
      "source": [
        "def powers_of_two(max_exponent):\n",
        "    for exp in range(max_exponent + 1):  # Include max_exponent\n",
        "        yield 2 ** exp\n",
        "\n",
        "# ✅ Example Usage:\n",
        "for power in powers_of_two(5):\n",
        "    print(power, end=\" \")  # Output: 1 2 4 8 16 32\n"
      ],
      "metadata": {
        "colab": {
          "base_uri": "https://localhost:8080/"
        },
        "id": "-bI74L3-VmVe",
        "outputId": "3f8a4231-6d01-4dd1-bd89-27dd367b35fa"
      },
      "execution_count": 12,
      "outputs": [
        {
          "output_type": "stream",
          "name": "stdout",
          "text": [
            "1 2 4 8 16 32 "
          ]
        }
      ]
    },
    {
      "cell_type": "markdown",
      "source": [
        "7.  Implement a generator function that reads a file line by line and yields each line as a string."
      ],
      "metadata": {
        "id": "QnA-UnAOVw8G"
      }
    },
    {
      "cell_type": "code",
      "source": [
        "def read_file_line_by_line(file_path):\n",
        "    try:\n",
        "        with open(file_path, \"r\", encoding=\"utf-8\") as file:\n",
        "            for line in file:\n",
        "                yield line.strip()  # Remove trailing newlines & spaces\n",
        "    except FileNotFoundError:\n",
        "        print(f\"Error: The file '{file_path}' was not found.\")\n",
        "    except Exception as e:\n",
        "        print(f\"Error: {e}\")\n",
        "\n",
        "# ✅ Example Usage:\n",
        "file_path = \"example.txt\"  # Make sure this file exists\n",
        "for line in read_file_line_by_line(file_path):\n",
        "    print(line)  # Prints each line from the file\n"
      ],
      "metadata": {
        "colab": {
          "base_uri": "https://localhost:8080/"
        },
        "id": "CVBhRbBhYIfm",
        "outputId": "223677cb-c67e-4d89-ee73-164514ba1611"
      },
      "execution_count": 16,
      "outputs": [
        {
          "output_type": "stream",
          "name": "stdout",
          "text": [
            "Error: The file 'example.txt' was not found.\n"
          ]
        }
      ]
    },
    {
      "cell_type": "markdown",
      "source": [
        "8. . Use a lambda function in Python to sort a list of tuples based on the second element of each tuple"
      ],
      "metadata": {
        "id": "2HQXTlqeYPnN"
      }
    },
    {
      "cell_type": "code",
      "source": [
        "# Sample list of tuples\n",
        "tuples_list = [(1, 3), (4, 1), (2, 2), (5, 0)]\n",
        "\n",
        "# Sorting using a lambda function\n",
        "sorted_list = sorted(tuples_list, key=lambda x: x[1])\n",
        "\n",
        "# Print the sorted list\n",
        "print(sorted_list)\n"
      ],
      "metadata": {
        "colab": {
          "base_uri": "https://localhost:8080/"
        },
        "id": "eJpj4P3BYREl",
        "outputId": "95887693-4f29-4cb7-8ee3-24280ace8cd5"
      },
      "execution_count": 17,
      "outputs": [
        {
          "output_type": "stream",
          "name": "stdout",
          "text": [
            "[(5, 0), (4, 1), (2, 2), (1, 3)]\n"
          ]
        }
      ]
    },
    {
      "cell_type": "markdown",
      "source": [
        "9.  Write a Python program that uses `map()` to convert a list of temperatures from Celsius to Fahrenheit."
      ],
      "metadata": {
        "id": "f7braRyFYbYP"
      }
    },
    {
      "cell_type": "code",
      "source": [
        "# Function to convert Celsius to Fahrenheit\n",
        "def celsius_to_fahrenheit(celsius):\n",
        "    return (celsius * 9/5) + 32\n",
        "\n",
        "# List of temperatures in Celsius\n",
        "celsius_temps = [0, 10, 20, 30, 40, 100]\n",
        "\n",
        "# Using map() to convert Celsius to Fahrenheit\n",
        "fahrenheit_temps = list(map(celsius_to_fahrenheit, celsius_temps))\n",
        "\n",
        "# Print the result\n",
        "print(\"Celsius:\", celsius_temps)\n",
        "print(\"Fahrenheit:\", fahrenheit_temps)\n"
      ],
      "metadata": {
        "colab": {
          "base_uri": "https://localhost:8080/"
        },
        "id": "pwmy1RUqYcS8",
        "outputId": "41aab6fc-b1d6-42a7-9e2c-47250600a47b"
      },
      "execution_count": 18,
      "outputs": [
        {
          "output_type": "stream",
          "name": "stdout",
          "text": [
            "Celsius: [0, 10, 20, 30, 40, 100]\n",
            "Fahrenheit: [32.0, 50.0, 68.0, 86.0, 104.0, 212.0]\n"
          ]
        }
      ]
    },
    {
      "cell_type": "markdown",
      "source": [
        "10. Create a Python program that uses `filter()` to remove all the vowels from a given string."
      ],
      "metadata": {
        "id": "PwNVAb7WYo4V"
      }
    },
    {
      "cell_type": "code",
      "source": [
        "def remove_vowels(s):\n",
        "    vowels = \"aeiouAEIOU\"\n",
        "    return \"\".join(filter(lambda char: char not in vowels, s))\n",
        "\n",
        "# Example Usage\n",
        "input_string = \"Hello, World!\"\n",
        "output_string = remove_vowels(input_string)\n",
        "\n",
        "print(\"Original String:\", input_string)\n",
        "print(\"String without Vowels:\", output_string)\n"
      ],
      "metadata": {
        "colab": {
          "base_uri": "https://localhost:8080/"
        },
        "id": "aE3rUdMfYqTk",
        "outputId": "e699f493-233b-4d1d-f34b-f480117475ff"
      },
      "execution_count": 19,
      "outputs": [
        {
          "output_type": "stream",
          "name": "stdout",
          "text": [
            "Original String: Hello, World!\n",
            "String without Vowels: Hll, Wrld!\n"
          ]
        }
      ]
    },
    {
      "cell_type": "markdown",
      "source": [
        "11. Write a Python program, which returns a list with 2-tuples. Each tuple consists of the order number and the\n",
        "product of the price per item and the quantity. The product should be increased by 10,- € if the value of the\n",
        "order is smaller than 100,00 €."
      ],
      "metadata": {
        "id": "dN4JjklgZoAS"
      }
    },
    {
      "cell_type": "code",
      "source": [
        "# Given bookshop data: (Order Number, Book Title, Quantity, Price per Item)\n",
        "orders = [\n",
        "    (34587, \"Learning Python, Mark Lutz\", 4, 40.95),\n",
        "    (98762, \"Programming Python, Mark Lutz\", 5, 56.80),\n",
        "    (77226, \"Head First Python, Paul Barry\", 3, 32.95),\n",
        "    (88112, \"Einführung in Python3, Bernd Klein\", 3, 24.99)\n",
        "]\n",
        "\n",
        "# Using map() and lambda to calculate total order value\n",
        "processed_orders = list(map(lambda order: (order[0],\n",
        "                    order[2] * order[3] + (10 if order[2] * order[3] < 100 else 0)), orders))\n",
        "\n",
        "# Print the result\n",
        "print(processed_orders)\n"
      ],
      "metadata": {
        "colab": {
          "base_uri": "https://localhost:8080/"
        },
        "id": "1GWGuqSeZtTz",
        "outputId": "e277e170-16b4-45af-962a-ed3d971c1eb9"
      },
      "execution_count": 20,
      "outputs": [
        {
          "output_type": "stream",
          "name": "stdout",
          "text": [
            "[(34587, 163.8), (98762, 284.0), (77226, 108.85000000000001), (88112, 84.97)]\n"
          ]
        }
      ]
    }
  ]
}