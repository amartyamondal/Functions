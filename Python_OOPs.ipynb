{
  "nbformat": 4,
  "nbformat_minor": 0,
  "metadata": {
    "colab": {
      "provenance": []
    },
    "kernelspec": {
      "name": "python3",
      "display_name": "Python 3"
    },
    "language_info": {
      "name": "python"
    }
  },
  "cells": [
    {
      "cell_type": "code",
      "execution_count": null,
      "metadata": {
        "id": "Go2GAEU3ZDnN"
      },
      "outputs": [],
      "source": []
    },
    {
      "cell_type": "markdown",
      "source": [
        "1. What is Object-Oriented Programming (OOP)?\n",
        "  - Object-Oriented Programming (OOP) is a programming paradigm that organizes code around objects rather than actions or logic. These objects represent real-world entities and are instances of classes, which define the structure and behavior of those objects.\n",
        "\n",
        "2. What is a class in OOP?  \n",
        "   - In Object-Oriented Programming (OOP), a class is like a blueprint or template for creating objects.\n",
        "\n",
        " 3.What is an object in OOP?\n",
        "   - In Object-Oriented Programming (OOP), an object is a fundamental building block that represents a real-world entity or concept. An object is an instance of a class, and it bundles data (attributes) and behaviors (methods) together.\n",
        "\n",
        " 4. What is the difference between abstraction and encapsulation?\n",
        "    - Abstraction is about hiding complex implementation details and showing only the essential features of an object. *Encapsulation is about bundling data (attributes) and methods that operate on that data within one unit, and restricting direct access to some components.\n",
        "\n",
        " 5. What are dunder methods in Python?   \n",
        "    - In Python, dunder methods (short for “double underscore” methods, also known as magic methods) are special methods with names surrounded by double underscores, like init, str, or add.\n",
        "    They’re used to override or customize built-in Python behavior — such as object creation, string representation, operator overloading, etc.\n",
        "\n",
        " 6. Explain the concept of inheritance in OOP?\n",
        "    - Inheritance is a feature of OOP that allows a class (called a child or subclass) to inherit properties and methods from another class (called a parent or superclass).\n",
        "\n",
        "7. What is polymorphism in OOP?\n",
        "  - Polymorphism means “many forms”. In Object-Oriented Programming, it refers to the ability of different objects to respond to the same method name in different ways.\n",
        "\n",
        "8. How is encapsulation achieved in Python?  \n",
        "   - In Python, encapsulation is achieved by restricting direct access to an object’s data and providing controlled access through methods. It’s all about protecting the internal state of an object from outside interference or misuse.\n",
        "\n",
        " 9. What is a constructor in Python?\n",
        "    - A constructor in Python is a special method used to initialize a newly created object of a class. It sets up the object’s initial state by assigning values to its attributes.\n",
        "\n",
        " 10. What are class and static methods in Python?\n",
        "     - A class method is a method that is bound to the class, not the instance. It can access or modify class state (i.e., class variables) that applies across all instances. A static method is just like a regular function inside a class — it doesn’t take self or cls as the first argument. It can’t access or modify instance or class data directly. It's used when you want to group utility functions within a class for organizational purposes.\n",
        "\n",
        "11. What is method overloading in Python?\n",
        "    - Method overloading is when you define multiple methods with the same name but different parameters (number or type), and the correct one is chosen based on how it's called.\n",
        "\n",
        "12. What is method overriding in OOP?\n",
        "    - Method overriding happens when a subclass (child class) provides a specific implementation of a method that is already defined in its superclass (parent class).\n",
        "\n",
        "Same method name\n",
        "\n",
        "Same parameters\n",
        "\n",
        "Different behavior\n",
        "\n",
        "It allows a subclass to customize or completely replace the behavior inherited from the parent class.\n",
        "\n",
        "13. What is a property decorator in Python?\n",
        "    - The @property decorator allows you to:\n",
        "\n",
        "Access a method like an attribute (without parentheses)\n",
        "\n",
        "Add logic to get, set, or delete an attribute\n",
        "\n",
        "Create read-only, computed, or validated attributes\n",
        "\n",
        "14. Why is polymorphism important in OOP?\n",
        "    -Polymorphism is super important in Object-Oriented Programming (OOP) because it brings flexibility, extensibility, and cleaner code to the table.\n",
        "\n",
        "15. What is an abstract class in Python?\n",
        "    - An abstract class is a class that cannot be instantiated on its own. It's meant to be inherited by other classes, and it defines a common interface for all subclasses.\n",
        "It often includes abstract methods — methods that are declared but not implemented, forcing subclasses to provide their own implementation.\n",
        "\n",
        "16. What are the advantages of OOP?\n",
        "    - Awesome! Object-Oriented Programming (OOP) comes with a bunch of advantages that make software more organized, reusable, scalable, and easier to maintain.\n",
        "\n",
        "17. What is the difference between a class variable and an instance variable?\n",
        "    - 1. Instance Variable Belongs to an object (instance) of the class\n",
        "Defined inside the constructor (init)\n",
        "Unique for each object\n",
        "Class Variable Belongs to the class itself, shared by all instances\n",
        "Defined outside of any method\n",
        "Changing it affects all objects, unless specifically overridden\n",
        "\n",
        "18. What is multiple inheritance in Python?\n",
        "   - Multiple inheritance means a class can inherit from more than one parent class.\n",
        "\n",
        "This allows a subclass to combine features and behaviors from multiple base classes.\n",
        "\n",
        "19. Explain the purpose of ‘’str’ and ‘repr’ ‘ methods in Python\n",
        "    - Both are dunder methods (a.k.a. magic methods) used to define how your objects are represented as strings.\n",
        "\n",
        "Method Purpose Used by str For --> end-users (readable)--> print(), str() repr For -->developers (debuggable) -->repr(), interactive shell, logs\n",
        "\n",
        "20. What is the significance of the ‘super()’ function in Python?\n",
        "    - super() gives you access to methods and properties of a parent (superclass) without explicitly naming it. It’s commonly used in method overriding, especially in init.\n",
        "\n",
        "21. What is the significance of the del method in Python?\n",
        "    - The del method in Python is a special (dunder) method that's called when an object is about to be destroyed, i.e., when it’s garbage collected.\n",
        "\n",
        "22. What is the difference between @staticmethod and @classmethod in Python?\n",
        "    - @staticmethod Does not take self or cls as the first argument.\n",
        "Takes cls (the class itself) as the first argument.\n",
        "\n",
        "23. How does polymorphism work in Python with inheritance?\n",
        "    - olymorphism is one of the core pillars of OOP, and Python handles it gracefully thanks to its dynamic typing and inheritance system.\n",
        "\n",
        "24.What is method chaining in Python OOP?\n",
        "   - Method chaining is a slick and expressive coding style in Python — especially useful when working with object-oriented design.\n",
        "\n",
        "25. What is the purpose of the call method in Python?\n",
        "    - The call method allows an instance of a class to be called like a function.\n",
        "If a class defines call.\n",
        "\n",
        "\n",
        "\n",
        "\n",
        "\n",
        "\n",
        "    "
      ],
      "metadata": {
        "id": "Invf_AAIbByF"
      }
    },
    {
      "cell_type": "markdown",
      "source": [
        "1. 1. Create a parent class Animal with a method speak() that prints a generic message. Create a child class Dog\n",
        "that overrides the speak() method to print \"Bark!\"."
      ],
      "metadata": {
        "id": "qhzE9p5hd5Jc"
      }
    },
    {
      "cell_type": "code",
      "source": [
        "# Parent class\n",
        "class Animal:\n",
        "    def speak(self):\n",
        "        print(\"The animal makes a sound.\")\n",
        "\n",
        "# Child class\n",
        "class Dog(Animal):\n",
        "    def speak(self):\n",
        "        print(\"Bark!\")\n",
        "\n",
        "# Example usage\n",
        "generic_animal = Animal()\n",
        "generic_animal.speak()  # Output: The animal makes a sound.\n",
        "\n",
        "dog = Dog()\n",
        "dog.speak()  # Output: Bark!\n"
      ],
      "metadata": {
        "colab": {
          "base_uri": "https://localhost:8080/"
        },
        "id": "ceh8NFGfd6Tj",
        "outputId": "bbf18a12-8a45-48ac-eda5-63d5023948ef"
      },
      "execution_count": 1,
      "outputs": [
        {
          "output_type": "stream",
          "name": "stdout",
          "text": [
            "The animal makes a sound.\n",
            "Bark!\n"
          ]
        }
      ]
    },
    {
      "cell_type": "markdown",
      "source": [
        "2. Write a program to create an abstract class Shape with a method area(). Derive classes Circle and Rectangle from it and implement the area() method in both."
      ],
      "metadata": {
        "id": "GZ-LZdMZeFBC"
      }
    },
    {
      "cell_type": "code",
      "source": [
        "from abc import ABC, abstractmethod\n",
        "import math\n",
        "\n",
        "# Abstract base class\n",
        "class Shape(ABC):\n",
        "    @abstractmethod\n",
        "    def area(self):\n",
        "        \"\"\"Compute and return the area of the shape.\"\"\"\n",
        "        pass\n",
        "\n",
        "# Concrete subclass for circles\n",
        "class Circle(Shape):\n",
        "    def __init__(self, radius):\n",
        "        self.radius = radius\n",
        "\n",
        "    def area(self):\n",
        "        return math.pi * (self.radius ** 2)\n",
        "\n",
        "# Concrete subclass for rectangles\n",
        "class Rectangle(Shape):\n",
        "    def __init__(self, width, height):\n",
        "        self.width = width\n",
        "        self.height = height\n",
        "\n",
        "    def area(self):\n",
        "        return self.width * self.height\n",
        "\n",
        "# Example usage\n",
        "if __name__ == \"__main__\":\n",
        "    shapes = [\n",
        "        Circle(radius=5),\n",
        "        Rectangle(width=4, height=6)\n",
        "    ]\n",
        "\n",
        "    for shape in shapes:\n",
        "        print(f\"{shape.__class__.__name__} area: {shape.area():.2f}\")\n"
      ],
      "metadata": {
        "colab": {
          "base_uri": "https://localhost:8080/"
        },
        "id": "rHVzFeEbeVny",
        "outputId": "6c0a56d8-ce2e-46aa-aaa3-4f59f1c6b0ba"
      },
      "execution_count": 4,
      "outputs": [
        {
          "output_type": "stream",
          "name": "stdout",
          "text": [
            "Circle area: 78.54\n",
            "Rectangle area: 24.00\n"
          ]
        }
      ]
    },
    {
      "cell_type": "markdown",
      "source": [
        "3. Implement a multi-level inheritance scenario where a class Vehicle has an attribute type. Derive a class Car\n",
        "and further derive a class ElectricCar that adds a battery attribute."
      ],
      "metadata": {
        "id": "h21WwjTeeZHp"
      }
    },
    {
      "cell_type": "code",
      "source": [
        "# Base class\n",
        "class Vehicle:\n",
        "    def __init__(self, vehicle_type):\n",
        "        self.type = vehicle_type\n",
        "\n",
        "    def info(self):\n",
        "        print(f\"Vehicle type: {self.type}\")\n",
        "\n",
        "# First‑level subclass\n",
        "class Car(Vehicle):\n",
        "    def __init__(self, make, model):\n",
        "        super().__init__(vehicle_type=\"Car\")\n",
        "        self.make = make\n",
        "        self.model = model\n",
        "\n",
        "    def info(self):\n",
        "        # extend Vehicle.info\n",
        "        super().info()\n",
        "        print(f\"Make: {self.make}, Model: {self.model}\")\n",
        "\n",
        "# Second‑level subclass\n",
        "class ElectricCar(Car):\n",
        "    def __init__(self, make, model, battery_capacity_kwh):\n",
        "        super().__init__(make, model)\n",
        "        self.battery = battery_capacity_kwh  # in kWh\n",
        "\n",
        "    def info(self):\n",
        "        # extend Car.info\n",
        "        super().info()\n",
        "        print(f\"Battery capacity: {self.battery} kWh\")\n",
        "\n",
        "# Example usage\n",
        "if __name__ == \"__main__\":\n",
        "    v = Vehicle(\"Generic\")\n",
        "    v.info()\n",
        "    # → Vehicle type: Generic\n",
        "\n",
        "    c = Car(\"Toyota\", \"Corolla\")\n",
        "    c.info()\n",
        "    # → Vehicle type: Car\n",
        "    #   Make: Toyota, Model: Corolla\n",
        "\n",
        "    e = ElectricCar(\"Tesla\", \"Model 3\", 75)\n",
        "    e.info()\n",
        "    # → Vehicle type: Car\n",
        "    #   Make: Tesla, Model: Model 3\n",
        "    #   Battery capacity: 75 kWh\n"
      ],
      "metadata": {
        "colab": {
          "base_uri": "https://localhost:8080/"
        },
        "id": "PYC8uxdReZzC",
        "outputId": "b0ad4180-b6f5-4a27-d163-0451d96cc4d4"
      },
      "execution_count": 5,
      "outputs": [
        {
          "output_type": "stream",
          "name": "stdout",
          "text": [
            "Vehicle type: Generic\n",
            "Vehicle type: Car\n",
            "Make: Toyota, Model: Corolla\n",
            "Vehicle type: Car\n",
            "Make: Tesla, Model: Model 3\n",
            "Battery capacity: 75 kWh\n"
          ]
        }
      ]
    },
    {
      "cell_type": "markdown",
      "source": [
        "4. Demonstrate polymorphism by creating a base class Bird with a method fly(). Create two derived classes\n",
        "Sparrow and Penguin that override the fly() method.\n"
      ],
      "metadata": {
        "id": "19uKu1erepyJ"
      }
    },
    {
      "cell_type": "code",
      "source": [
        "# Base class\n",
        "class Bird:\n",
        "    def fly(self):\n",
        "        print(\"The bird takes off into the sky.\")\n",
        "\n",
        "# Derived class 1\n",
        "class Sparrow(Bird):\n",
        "    def fly(self):\n",
        "        print(\"The sparrow flutters swiftly between branches.\")\n",
        "\n",
        "# Derived class 2\n",
        "class Penguin(Bird):\n",
        "    def fly(self):\n",
        "        print(\"Penguins can't really fly—they swim instead!\")\n",
        "\n",
        "# Demonstration of polymorphism\n",
        "if __name__ == \"__main__\":\n",
        "    birds = [Sparrow(), Penguin(), Bird()]\n",
        "\n",
        "    for b in birds:\n",
        "        # Although we call the same method, each class responds differently:\n",
        "        b.fly()\n"
      ],
      "metadata": {
        "id": "xndYmMOuelGy"
      },
      "execution_count": null,
      "outputs": []
    },
    {
      "cell_type": "markdown",
      "source": [
        "5. Write a program to demonstrate encapsulation by creating a class BankAccount with private attributes\n",
        "balance and methods to deposit, withdraw, and check balance"
      ],
      "metadata": {
        "id": "icOFHBpYevXR"
      }
    },
    {
      "cell_type": "code",
      "source": [
        "class BankAccount:\n",
        "    def __init__(self, initial_balance=0):\n",
        "        # Private attribute\n",
        "        self.__balance = initial_balance\n",
        "\n",
        "    def deposit(self, amount):\n",
        "        \"\"\"Add money to the account if amount is positive.\"\"\"\n",
        "        if amount > 0:\n",
        "            self.__balance += amount\n",
        "            print(f\"Deposited ${amount:.2f}. New balance: ${self.__balance:.2f}\")\n",
        "        else:\n",
        "            print(\"Deposit amount must be positive.\")\n",
        "\n",
        "    def withdraw(self, amount):\n",
        "        \"\"\"Subtract money if sufficient funds and amount is positive.\"\"\"\n",
        "        if amount <= 0:\n",
        "            print(\"Withdrawal amount must be positive.\")\n",
        "        elif amount > self.__balance:\n",
        "            print(\"Insufficient funds.\")\n",
        "        else:\n",
        "            self.__balance -= amount\n",
        "            print(f\"Withdrew ${amount:.2f}. New balance: ${self.__balance:.2f}\")\n",
        "\n",
        "    def get_balance(self):\n",
        "        \"\"\"Return the current balance.\"\"\"\n",
        "        # We print here just for demonstration; in a real API you might return only.\n",
        "        print(f\"Current balance: ${self.__balance:.2f}\")\n",
        "        return self.__balance\n",
        "\n",
        "\n",
        "if __name__ == \"__main__\":\n",
        "    acct = BankAccount(100)      # start with $100\n",
        "    acct.get_balance()           # → Current balance: $100.00\n",
        "\n",
        "    acct.deposit(50)             # → Deposited $50.00. New balance: $150.00\n",
        "    acct.withdraw(30)            # → Withdrew $30.00. New balance: $120.00\n",
        "\n",
        "    acct.withdraw(200)           # → Insufficient funds.\n",
        "    acct.deposit(-20)            # → Deposit amount must be positive.\n",
        "    acct.withdraw(0)             # → Withdrawal amount must be positive.\n",
        "\n",
        "    # Attempting to access the private attribute directly:\n",
        "    try:\n",
        "        print(acct.__balance)\n",
        "    except AttributeError as e:\n",
        "        print(f\"Error: {e}\")     # → Error: 'BankAccount' object has no attribute '__balance'\n",
        "\n",
        "    # (Internally Python stores it as _BankAccount__balance, but that breaks encapsulation!)\n"
      ],
      "metadata": {
        "colab": {
          "base_uri": "https://localhost:8080/"
        },
        "id": "GbeMgZlAe1sc",
        "outputId": "69edc5af-23b1-498b-b2e4-a93b5444195b"
      },
      "execution_count": 6,
      "outputs": [
        {
          "output_type": "stream",
          "name": "stdout",
          "text": [
            "Current balance: $100.00\n",
            "Deposited $50.00. New balance: $150.00\n",
            "Withdrew $30.00. New balance: $120.00\n",
            "Insufficient funds.\n",
            "Deposit amount must be positive.\n",
            "Withdrawal amount must be positive.\n",
            "Error: 'BankAccount' object has no attribute '__balance'\n"
          ]
        }
      ]
    },
    {
      "cell_type": "markdown",
      "source": [
        "6. Demonstrate runtime polymorphism using a method play() in a base class Instrument. Derive classes Guitar\n",
        "and Piano that implement their own version of play()."
      ],
      "metadata": {
        "id": "d6dI-gRbe5wR"
      }
    },
    {
      "cell_type": "code",
      "source": [
        "# Base class\n",
        "class Instrument:\n",
        "    def play(self):\n",
        "        \"\"\"Default play behavior (could also be abstract).\"\"\"\n",
        "        print(\"The instrument makes a sound.\")\n",
        "\n",
        "# Subclass 1\n",
        "class Guitar(Instrument):\n",
        "    def play(self):\n",
        "        print(\"Strumming the guitar strings 🎸\")\n",
        "\n",
        "# Subclass 2\n",
        "class Piano(Instrument):\n",
        "    def play(self):\n",
        "        print(\"Pressing the piano keys 🎹\")\n",
        "\n",
        "# A function that takes any Instrument and calls play()\n",
        "def perform(instrument: Instrument):\n",
        "    instrument.play()\n",
        "\n",
        "if __name__ == \"__main__\":\n",
        "    # Create a list of different instruments\n",
        "    orchestra = [Guitar(), Piano(), Instrument()]\n",
        "\n",
        "    # At runtime, each object responds to play() in its own way\n",
        "    for instr in orchestra:\n",
        "        perform(instr)\n"
      ],
      "metadata": {
        "colab": {
          "base_uri": "https://localhost:8080/"
        },
        "id": "LcsDp9v8e9Jh",
        "outputId": "05ff16f5-f62d-4127-bd63-33485d01f924"
      },
      "execution_count": 7,
      "outputs": [
        {
          "output_type": "stream",
          "name": "stdout",
          "text": [
            "Strumming the guitar strings 🎸\n",
            "Pressing the piano keys 🎹\n",
            "The instrument makes a sound.\n"
          ]
        }
      ]
    },
    {
      "cell_type": "markdown",
      "source": [
        "7. Create a class MathOperations with a class method add_numbers() to add two numbers and a static\n",
        "method subtract_numbers() to subtract two numbers."
      ],
      "metadata": {
        "id": "Iil1b0CfgaDx"
      }
    },
    {
      "cell_type": "code",
      "source": [
        "class MathOperations: # Add class definition\n",
        "\n",
        "    @classmethod\n",
        "    def add_numbers(cls, a, b):\n",
        "        return a + b\n",
        "\n",
        "    @staticmethod\n",
        "    def subtract_numbers(a, b):\n",
        "        return a - b\n",
        "\n",
        "# Example usage\n",
        "print(\"Addition:\", MathOperations.add_numbers(10, 5))       # Output: 15\n",
        "print(\"Subtraction:\", MathOperations.subtract_numbers(10, 5))  # Output: 5"
      ],
      "metadata": {
        "colab": {
          "base_uri": "https://localhost:8080/"
        },
        "id": "Jv1KJqVdhC3_",
        "outputId": "36dbc7bd-5940-4b47-bff6-45f365730980"
      },
      "execution_count": 11,
      "outputs": [
        {
          "output_type": "stream",
          "name": "stdout",
          "text": [
            "Addition: 15\n",
            "Subtraction: 5\n"
          ]
        }
      ]
    },
    {
      "cell_type": "markdown",
      "source": [
        "8. Implement a class Person with a class method to count the total number of persons created\n"
      ],
      "metadata": {
        "id": "o-AtVNCHhIFg"
      }
    },
    {
      "cell_type": "code",
      "source": [
        "class Person:\n",
        "    # Class variable to hold the count of instances\n",
        "    _count = 0\n",
        "\n",
        "    def __init__(self, name):\n",
        "        \"\"\"\n",
        "        Initialize a new Person.\n",
        "\n",
        "        Args:\n",
        "            name (str): The person's name.\n",
        "        \"\"\"\n",
        "        self.name = name\n",
        "        # Increment the class‐level counter whenever a new instance is made\n",
        "        Person._count += 1\n",
        "\n",
        "    @classmethod\n",
        "    def get_person_count(cls):\n",
        "        \"\"\"\n",
        "        Return the total number of Person instances created.\n",
        "\n",
        "        Returns:\n",
        "            int: Number of Person objects instantiated.\n",
        "        \"\"\"\n",
        "        return cls._count\n",
        "\n",
        "    def __repr__(self):\n",
        "        return f\"Person(name={self.name!r})\"\n",
        "\n",
        "\n",
        "if __name__ == \"__main__\":\n",
        "    print(\"Persons before creation:\", Person.get_person_count())  # → 0\n",
        "\n",
        "    alice = Person(\"Alice\")\n",
        "    bob   = Person(\"Bob\")\n",
        "    carol = Person(\"Carol\")\n",
        "\n",
        "    print(\"Persons after creation:\", Person.get_person_count())   # → 3\n",
        "\n",
        "    # Even if you create more…\n",
        "    for name in [\"Dave\", \"Eve\"]:\n",
        "        Person(name)\n",
        "    print(\"Final count:\", Person.get_person_count())              # → 5\n"
      ],
      "metadata": {
        "colab": {
          "base_uri": "https://localhost:8080/"
        },
        "id": "K3VilnfwhSfH",
        "outputId": "359cca68-4c6f-4797-cb87-3d081eadebb2"
      },
      "execution_count": 12,
      "outputs": [
        {
          "output_type": "stream",
          "name": "stdout",
          "text": [
            "Persons before creation: 0\n",
            "Persons after creation: 3\n",
            "Final count: 5\n"
          ]
        }
      ]
    },
    {
      "cell_type": "markdown",
      "source": [
        "9. Write a class Fraction with attributes numerator and denominator. Override the str method to display the\n",
        "fraction as \"numerator/denominator\"."
      ],
      "metadata": {
        "id": "gAp5ENdZhUz_"
      }
    },
    {
      "cell_type": "code",
      "source": [
        "class Fraction:\n",
        "    def __init__(self, numerator, denominator):\n",
        "        if denominator == 0:\n",
        "            # Choose one of the options below:\n",
        "\n",
        "            # 1. Raise a different exception:\n",
        "            # raise ZeroDivisionError(\"Denominator cannot be zero.\")\n",
        "\n",
        "            # 2. Set a default denominator:\n",
        "            # self.denominator = 1\n",
        "            # print(\"Warning: Denominator set to 1 to avoid division by zero.\")\n",
        "\n",
        "            # 3. Skip or log the error:\n",
        "            print(\"Warning: Attempt to create a fraction with a denominator of 0. Skipping.\")\n",
        "            return  # Exit the __init__ method\n",
        "\n",
        "        self.numerator = numerator\n",
        "        self.denominator = denominator\n",
        "\n",
        "    # ... rest of the class ..."
      ],
      "metadata": {
        "id": "Op6D-s5Hhgcn"
      },
      "execution_count": 15,
      "outputs": []
    },
    {
      "cell_type": "markdown",
      "source": [
        "10. Demonstrate operator overloading by creating a class Vector and overriding the add method to add two\n",
        "vectors."
      ],
      "metadata": {
        "id": "1UgVbYjnhi9X"
      }
    },
    {
      "cell_type": "code",
      "source": [
        "class Vector:\n",
        "    def __init__(self, x, y):\n",
        "        \"\"\"\n",
        "        Initialize a 2D vector.\n",
        "\n",
        "        Args:\n",
        "            x (int or float): The x‑component.\n",
        "            y (int or float): The y‑component.\n",
        "        \"\"\"\n",
        "        self.x = x\n",
        "        self.y = y\n",
        "\n",
        "    def __add__(self, other):\n",
        "        \"\"\"\n",
        "        Override the + operator to add two vectors component‑wise.\n",
        "\n",
        "        Args:\n",
        "            other (Vector): The vector to add.\n",
        "\n",
        "        Returns:\n",
        "            Vector: A new vector whose components are the sums.\n",
        "        \"\"\"\n",
        "        if not isinstance(other, Vector):\n",
        "            return NotImplemented\n",
        "        return Vector(self.x + other.x, self.y + other.y)\n",
        "\n",
        "    def __repr__(self):\n",
        "        \"\"\"\n",
        "        Unambiguous representation, useful for debugging.\n",
        "        \"\"\"\n",
        "        return f\"Vector({self.x}, {self.y})\"\n",
        "\n",
        "    def __str__(self):\n",
        "        \"\"\"\n",
        "        Readable string representation.\n",
        "        \"\"\"\n",
        "        return f\"<{self.x}, {self.y}>\"\n",
        "\n",
        "\n",
        "# Example usage\n",
        "if __name__ == \"__main__\":\n",
        "    v1 = Vector(1, 2)\n",
        "    v2 = Vector(3, 4)\n",
        "    v3 = v1 + v2        # invokes v1.__add__(v2)\n",
        "    print(v1)           # Output: <1, 2>\n",
        "    print(v2)           # Output: <3, 4>\n",
        "    print(v3)           # Output: <4, 6>\n",
        "    print(repr(v3))     # Output: Vector(4, 6)\n"
      ],
      "metadata": {
        "colab": {
          "base_uri": "https://localhost:8080/"
        },
        "id": "hQRXbWmBhnku",
        "outputId": "5b54a775-a584-49e0-8d08-4e5ea0989153"
      },
      "execution_count": 16,
      "outputs": [
        {
          "output_type": "stream",
          "name": "stdout",
          "text": [
            "<1, 2>\n",
            "<3, 4>\n",
            "<4, 6>\n",
            "Vector(4, 6)\n"
          ]
        }
      ]
    },
    {
      "cell_type": "markdown",
      "source": [
        "11. Create a class Person with attributes name and age. Add a method greet() that prints \"Hello, my name is\n",
        "{name} and I am {age} years old.\""
      ],
      "metadata": {
        "id": "vZKaKASmhqNm"
      }
    },
    {
      "cell_type": "code",
      "source": [
        "class Person:\n",
        "    def __init__(self, name, age):\n",
        "        \"\"\"\n",
        "        Initialize a new Person.\n",
        "\n",
        "        Args:\n",
        "            name (str): The person's name.\n",
        "            age (int): The person's age.\n",
        "        \"\"\"\n",
        "        self.name = name\n",
        "        self.age = age\n",
        "\n",
        "    def greet(self):\n",
        "        \"\"\"\n",
        "        Print a greeting that includes the person's name and age.\n",
        "        \"\"\"\n",
        "        print(f\"Hello, my name is {self.name} and I am {self.age} years old.\")\n",
        "\n",
        "# Example usage\n",
        "if __name__ == \"__main__\":\n",
        "    alice = Person(\"Alice\", 30)\n",
        "    alice.greet()  # Output: Hello, my name is Alice and I am 30 years old.\n"
      ],
      "metadata": {
        "colab": {
          "base_uri": "https://localhost:8080/"
        },
        "id": "VBKKOuLchtmu",
        "outputId": "1c5a11f3-08fd-4714-e7fa-cab2f3018390"
      },
      "execution_count": 17,
      "outputs": [
        {
          "output_type": "stream",
          "name": "stdout",
          "text": [
            "Hello, my name is Alice and I am 30 years old.\n"
          ]
        }
      ]
    },
    {
      "cell_type": "markdown",
      "source": [
        "12. Implement a class Student with attributes name and grades. Create a method average_grade() to compute\n",
        "the average of the grades."
      ],
      "metadata": {
        "id": "yttYmwSHhwXH"
      }
    },
    {
      "cell_type": "code",
      "source": [
        "class Student:\n",
        "    def __init__(self, name, grades):\n",
        "        \"\"\"\n",
        "        Initialize a new Student.\n",
        "\n",
        "        Args:\n",
        "            name (str): The student's name.\n",
        "            grades (list of int or float): A list of grades.\n",
        "        \"\"\"\n",
        "        self.name = name\n",
        "        self.grades = grades\n",
        "\n",
        "    def average_grade(self):\n",
        "        \"\"\"\n",
        "        Compute the average of the grades.\n",
        "\n",
        "        Returns:\n",
        "            float: The average grade, or None if no grades are available.\n",
        "        \"\"\"\n",
        "        if not self.grades:\n",
        "            print(\"No grades available.\")\n",
        "            return None\n",
        "        return sum(self.grades) / len(self.grades)\n",
        "\n",
        "    def __str__(self):\n",
        "        return f\"Student: {self.name}\"\n",
        "\n",
        "\n",
        "# Example usage\n",
        "if __name__ == \"__main__\":\n",
        "    student1 = Student(\"John\", [85, 90, 78, 92])\n",
        "    print(student1)  # Output: Student: John\n",
        "    avg = student1.average_grade()\n",
        "    if avg is not None:\n",
        "        print(f\"Average grade: {avg:.2f}\")  # Output: Average grade: 86.25\n",
        "\n",
        "    student2 = Student(\"Jane\", [])\n",
        "    student2.average_grade()  # Output: No grades available.\n"
      ],
      "metadata": {
        "colab": {
          "base_uri": "https://localhost:8080/"
        },
        "id": "iNSTq1OQh0XG",
        "outputId": "c2197053-d543-4644-aca6-66bb04a15fef"
      },
      "execution_count": 18,
      "outputs": [
        {
          "output_type": "stream",
          "name": "stdout",
          "text": [
            "Student: John\n",
            "Average grade: 86.25\n",
            "No grades available.\n"
          ]
        }
      ]
    },
    {
      "cell_type": "markdown",
      "source": [
        "13. Create a class Rectangle with methods set_dimensions() to set the dimensions and area() to calculate the\n",
        "area."
      ],
      "metadata": {
        "id": "lOM6Wuz9h3yV"
      }
    },
    {
      "cell_type": "code",
      "source": [
        "class Rectangle:\n",
        "    def __init__(self):\n",
        "        \"\"\"\n",
        "        Initialize a rectangle with default dimensions.\n",
        "        \"\"\"\n",
        "        self.length = 0\n",
        "        self.width = 0\n",
        "\n",
        "    def set_dimensions(self, length, width):\n",
        "        \"\"\"\n",
        "        Set the length and width of the rectangle.\n",
        "\n",
        "        Args:\n",
        "            length (float): The length of the rectangle.\n",
        "            width (float): The width of the rectangle.\n",
        "        \"\"\"\n",
        "        if length < 0 or width < 0:\n",
        "            raise ValueError(\"Length and width must be non-negative.\")\n",
        "        self.length = length\n",
        "        self.width = width\n",
        "\n",
        "    def area(self):\n",
        "        \"\"\"\n",
        "        Calculate and return the area of the rectangle.\n",
        "\n",
        "        Returns:\n",
        "            float: The area (length * width).\n",
        "        \"\"\"\n",
        "        return self.length * self.width\n",
        "\n",
        "    def __str__(self):\n",
        "        return f\"Rectangle({self.length} x {self.width})\"\n",
        "\n",
        "\n",
        "# Example usage\n",
        "if __name__ == \"__main__\":\n",
        "    rect = Rectangle()\n",
        "    rect.set_dimensions(5, 3)\n",
        "    print(rect)  # Output: Rectangle(5 x 3)\n",
        "    print(f\"Area: {rect.area()}\")  # Output: Area: 15\n"
      ],
      "metadata": {
        "colab": {
          "base_uri": "https://localhost:8080/"
        },
        "id": "tifMRVFki1Yl",
        "outputId": "a2b5e01f-7c9a-47a3-abe4-beabaf736e03"
      },
      "execution_count": 19,
      "outputs": [
        {
          "output_type": "stream",
          "name": "stdout",
          "text": [
            "Rectangle(5 x 3)\n",
            "Area: 15\n"
          ]
        }
      ]
    },
    {
      "cell_type": "markdown",
      "source": [
        "14. Create a class Employee with a method calculate_salary() that computes the salary based on hours worked\n",
        "and hourly rate. Create a derived class Manager that adds a bonus to the salary."
      ],
      "metadata": {
        "id": "Pdj6zohji6p8"
      }
    },
    {
      "cell_type": "code",
      "source": [
        "class Employee:\n",
        "    def __init__(self, name, hours_worked, hourly_rate):\n",
        "        \"\"\"\n",
        "        Initialize an Employee with name, hours worked, and hourly rate.\n",
        "        \"\"\"\n",
        "        self.name = name\n",
        "        self.hours_worked = hours_worked\n",
        "        self.hourly_rate = hourly_rate\n",
        "\n",
        "    def calculate_salary(self):\n",
        "        \"\"\"\n",
        "        Calculate the basic salary.\n",
        "        \"\"\"\n",
        "        return self.hours_worked * self.hourly_rate\n",
        "\n",
        "    def __str__(self):\n",
        "        return f\"Employee: {self.name}\"\n",
        "\n",
        "\n",
        "class Manager(Employee):\n",
        "    def __init__(self, name, hours_worked, hourly_rate, bonus):\n",
        "        \"\"\"\n",
        "        Initialize a Manager with an additional bonus.\n",
        "        \"\"\"\n",
        "        super().__init__(name, hours_worked, hourly_rate)\n",
        "        self.bonus = bonus\n",
        "\n",
        "    def calculate_salary(self):\n",
        "        \"\"\"\n",
        "        Calculate salary including bonus for the manager.\n",
        "        \"\"\"\n",
        "        base_salary = super().calculate_salary()\n",
        "        return base_salary + self.bonus\n",
        "\n",
        "    def __str__(self):\n",
        "        return f\"Manager: {self.name}\"\n",
        "\n",
        "\n",
        "# Example usage\n",
        "if __name__ == \"__main__\":\n",
        "    emp = Employee(\"John\", 40, 20)\n",
        "    print(emp)  # Output: Employee: John\n",
        "    print(f\"Salary: ${emp.calculate_salary():.2f}\")  # Output: Salary: $800.00\n",
        "\n",
        "    mgr = Manager(\"Alice\", 40, 30, 500)\n",
        "    print(mgr)  # Output: Manager: Alice\n",
        "    print(f\"Salary: ${mgr.calculate_salary():.2f}\")  # Output: Salary: $1700.00\n"
      ],
      "metadata": {
        "colab": {
          "base_uri": "https://localhost:8080/"
        },
        "id": "hfM2qlGEjYhz",
        "outputId": "bf154517-0b2e-44f9-8e43-6dc217d598cd"
      },
      "execution_count": 22,
      "outputs": [
        {
          "output_type": "stream",
          "name": "stdout",
          "text": [
            "Employee: John\n",
            "Salary: $800.00\n",
            "Manager: Alice\n",
            "Salary: $1700.00\n"
          ]
        }
      ]
    },
    {
      "cell_type": "code",
      "source": [
        "15. Create a class Product with attributes name, price, and quantity. Implement a method total_price() that\n",
        "calculates the total price of the product."
      ],
      "metadata": {
        "id": "PDVfvXtKjca7"
      },
      "execution_count": null,
      "outputs": []
    },
    {
      "cell_type": "code",
      "source": [
        "class Product:\n",
        "    def __init__(self, name, price, quantity):\n",
        "        \"\"\"\n",
        "        Initialize a product with name, price, and quantity.\n",
        "        \"\"\"\n",
        "        self.name = name\n",
        "        self.price = price\n",
        "        self.quantity = quantity\n",
        "\n",
        "    def total_price(self):\n",
        "        \"\"\"\n",
        "        Calculate and return the total price of the product.\n",
        "        \"\"\"\n",
        "        return self.price * self.quantity\n",
        "\n",
        "    def __str__(self):\n",
        "        return f\"Product: {self.name}, Price: {self.price}, Quantity: {self.quantity}\"\n"
      ],
      "metadata": {
        "id": "kx4m5UUWjrsb"
      },
      "execution_count": 25,
      "outputs": []
    },
    {
      "cell_type": "markdown",
      "source": [
        "16. Create a class Animal with an abstract method sound(). Create two derived classes Cow and Sheep that\n",
        "implement the sound() method."
      ],
      "metadata": {
        "id": "WV1D36Gmjybz"
      }
    },
    {
      "cell_type": "code",
      "source": [
        "from abc import ABC, abstractmethod\n",
        "\n",
        "class Animal(ABC):\n",
        "    @abstractmethod\n",
        "    def sound(self):\n",
        "        \"\"\"\n",
        "        Abstract method to be implemented by subclasses.\n",
        "        \"\"\"\n",
        "        pass\n",
        "\n",
        "class Cow(Animal):\n",
        "    def sound(self):\n",
        "        return \"Moo\"\n",
        "\n",
        "class Sheep(Animal):\n",
        "    def sound(self):\n",
        "        return \"Baa\"\n"
      ],
      "metadata": {
        "id": "6ucL4L5zj4uX"
      },
      "execution_count": 26,
      "outputs": []
    },
    {
      "cell_type": "markdown",
      "source": [
        "17. Create a class Book with attributes title, author, and year_published. Add a method get_book_info() that\n",
        "returns a formatted string with the book's details."
      ],
      "metadata": {
        "id": "kwbT8-ZEj7QL"
      }
    },
    {
      "cell_type": "code",
      "source": [
        "class Book:\n",
        "    def __init__(self, title, author, year_published):\n",
        "        \"\"\"\n",
        "        Initialize a Book with title, author, and year published.\n",
        "        \"\"\"\n",
        "        self.title = title\n",
        "        self.author = author\n",
        "        self.year_published = year_published\n",
        "\n",
        "    def get_book_info(self):\n",
        "        \"\"\"\n",
        "        Return a formatted string with the book's details.\n",
        "        \"\"\"\n",
        "        return f\"'{self.title}' by {self.author}, published in {self.year_published}\"\n"
      ],
      "metadata": {
        "id": "y62GfbuxkC40"
      },
      "execution_count": 28,
      "outputs": []
    },
    {
      "cell_type": "markdown",
      "source": [
        "18. Create a class House with attributes address and price. Create a derived class Mansion that adds an\n",
        "attribute number_of_rooms."
      ],
      "metadata": {
        "id": "pwZcMyBWkGjD"
      }
    },
    {
      "cell_type": "code",
      "source": [
        "class House:\n",
        "    def __init__(self, address, price):\n",
        "        \"\"\"\n",
        "        Initialize a House with address and price.\n",
        "        \"\"\"\n",
        "        self.address = address\n",
        "        self.price = price\n",
        "\n",
        "    def __str__(self):\n",
        "        return f\"House at {self.address}, priced at ${self.price}\"\n",
        "\n",
        "\n",
        "class Mansion(House):\n",
        "    def __init__(self, address, price, number_of_rooms):\n",
        "        \"\"\"\n",
        "        Initialize a Mansion, extending House with the number of rooms.\n",
        "        \"\"\"\n",
        "        super().__init__(address, price)  # Initialize attributes from House\n",
        "        self.number_of_rooms = number_of_rooms\n",
        "\n",
        "    def __str__(self):\n",
        "        return f\"Mansion at {self.address}, priced at ${self.price}, with {self.number_of_rooms} rooms\"\n"
      ],
      "metadata": {
        "id": "lBEGHQiykGGj"
      },
      "execution_count": 29,
      "outputs": []
    },
    {
      "cell_type": "markdown",
      "source": [],
      "metadata": {
        "id": "CmMMpshckVjz"
      }
    }
  ]
}